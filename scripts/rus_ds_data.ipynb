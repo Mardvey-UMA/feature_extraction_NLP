{
 "cells": [
  {
   "cell_type": "code",
   "execution_count": 2,
   "metadata": {},
   "outputs": [
    {
     "name": "stdout",
     "output_type": "stream",
     "text": [
      "importing Jupyter notebook from import_librares.ipynb\n"
     ]
    },
    {
     "name": "stderr",
     "output_type": "stream",
     "text": [
      "c:\\course_work\\feature_extraction_NLP\\.conda\\lib\\site-packages\\tqdm\\auto.py:21: TqdmWarning: IProgress not found. Please update jupyter and ipywidgets. See https://ipywidgets.readthedocs.io/en/stable/user_install.html\n",
      "  from .autonotebook import tqdm as notebook_tqdm\n"
     ]
    },
    {
     "name": "stdout",
     "output_type": "stream",
     "text": [
      "importing Jupyter notebook from func.ipynb\n"
     ]
    },
    {
     "name": "stderr",
     "output_type": "stream",
     "text": [
      "[nltk_data] Downloading package stopwords to\n",
      "[nltk_data]     C:\\Users\\NitghtWay\\AppData\\Roaming\\nltk_data...\n",
      "[nltk_data]   Package stopwords is already up-to-date!\n",
      "[nltk_data] Downloading package punkt to\n",
      "[nltk_data]     C:\\Users\\NitghtWay\\AppData\\Roaming\\nltk_data...\n",
      "[nltk_data]   Package punkt is already up-to-date!\n",
      "[nltk_data] Downloading package stopwords to\n",
      "[nltk_data]     C:\\Users\\NitghtWay\\AppData\\Roaming\\nltk_data...\n",
      "[nltk_data]   Package stopwords is already up-to-date!\n",
      "[nltk_data] Downloading package punkt to\n",
      "[nltk_data]     C:\\Users\\NitghtWay\\AppData\\Roaming\\nltk_data...\n",
      "[nltk_data]   Package punkt is already up-to-date!\n"
     ]
    }
   ],
   "source": [
    "import import_ipynb\n",
    "import import_librares\n",
    "from import_librares import pd, plt\n",
    "import func \n",
    "from ipynb.fs.full.func import tokenize_morphy, tokenize_lancaster, tokenize_snowball"
   ]
  },
  {
   "cell_type": "code",
   "execution_count": 3,
   "metadata": {},
   "outputs": [],
   "source": [
    "import pandas as pd\n",
    "import numpy as np\n",
    "import matplotlib.pyplot as plt\n",
    "import seaborn as sns\n",
    "%matplotlib inline\n",
    "from wordcloud import WordCloud"
   ]
  },
  {
   "cell_type": "code",
   "execution_count": 4,
   "metadata": {},
   "outputs": [
    {
     "data": {
      "text/html": [
       "<div>\n",
       "<style scoped>\n",
       "    .dataframe tbody tr th:only-of-type {\n",
       "        vertical-align: middle;\n",
       "    }\n",
       "\n",
       "    .dataframe tbody tr th {\n",
       "        vertical-align: top;\n",
       "    }\n",
       "\n",
       "    .dataframe thead th {\n",
       "        text-align: right;\n",
       "    }\n",
       "</style>\n",
       "<table border=\"1\" class=\"dataframe\">\n",
       "  <thead>\n",
       "    <tr style=\"text-align: right;\">\n",
       "      <th></th>\n",
       "      <th>premise</th>\n",
       "      <th>genre</th>\n",
       "    </tr>\n",
       "  </thead>\n",
       "  <tbody>\n",
       "    <tr>\n",
       "      <th>0</th>\n",
       "      <td>Сумма ущерба составила одну тысячу рублей. Уто...</td>\n",
       "      <td>kp</td>\n",
       "    </tr>\n",
       "    <tr>\n",
       "      <th>1</th>\n",
       "      <td>Перебрасываясь словечками, они скользят глазам...</td>\n",
       "      <td>fiction</td>\n",
       "    </tr>\n",
       "    <tr>\n",
       "      <th>2</th>\n",
       "      <td>— Разве что, — сказала она, — мы хотим где-ниб...</td>\n",
       "      <td>fiction</td>\n",
       "    </tr>\n",
       "    <tr>\n",
       "      <th>3</th>\n",
       "      <td>Зима, наконец, показала свой характер.</td>\n",
       "      <td>kp</td>\n",
       "    </tr>\n",
       "    <tr>\n",
       "      <th>4</th>\n",
       "      <td>Гуманность Бога подобным сценарием не предпола...</td>\n",
       "      <td>fiction</td>\n",
       "    </tr>\n",
       "  </tbody>\n",
       "</table>\n",
       "</div>"
      ],
      "text/plain": [
       "                                             premise    genre\n",
       "0  Сумма ущерба составила одну тысячу рублей. Уто...       kp\n",
       "1  Перебрасываясь словечками, они скользят глазам...  fiction\n",
       "2  — Разве что, — сказала она, — мы хотим где-ниб...  fiction\n",
       "3             Зима, наконец, показала свой характер.       kp\n",
       "4  Гуманность Бога подобным сценарием не предпола...  fiction"
      ]
     },
     "execution_count": 4,
     "metadata": {},
     "output_type": "execute_result"
    }
   ],
   "source": [
    "#Загрузка русского датасета и объедниение \n",
    "train_path = 'C:\\\\course_work\\\\feature_extraction_NLP\\\\data\\\\test_ds1\\\\train.jsonl'\n",
    "val_path = 'C:\\\\course_work\\\\feature_extraction_NLP\\\\data\\\\test_ds1\\\\val.jsonl'\n",
    "train_data = pd.read_json(train_path, lines=True)\n",
    "val_data = pd.read_json(val_path, lines=True)\n",
    "df = pd.concat([train_data, val_data])\n",
    "df = df.drop(['label', 'hypothesis', 'verb','negation'\n",
    ",'idx','no_negation'], axis=1)\n",
    "df.dropna()\n",
    "df.head()\n"
   ]
  },
  {
   "cell_type": "code",
   "execution_count": 5,
   "metadata": {},
   "outputs": [],
   "source": [
    "#Объединение двух похожих классов\n",
    "df['genre'] = df['genre'].replace('kp', 'interfax')"
   ]
  },
  {
   "cell_type": "code",
   "execution_count": 6,
   "metadata": {},
   "outputs": [
    {
     "data": {
      "text/plain": [
       "<seaborn.axisgrid.FacetGrid at 0x1ba1a566140>"
      ]
     },
     "execution_count": 6,
     "metadata": {},
     "output_type": "execute_result"
    },
    {
     "data": {
      "image/png": "[encoded data removed]",
      "text/plain": [
       "<Figure size 500x500 with 1 Axes>"
      ]
     },
     "metadata": {},
     "output_type": "display_data"
    }
   ],
   "source": [
    "#Проверка на сбалансированность\n",
    "sns.displot(data=df, x = 'genre', kde = True)\n",
    "#plt.show()"
   ]
  },
  {
   "cell_type": "code",
   "execution_count": 7,
   "metadata": {},
   "outputs": [],
   "source": [
    "Y = pd.DataFrame({'genre':[str(genre) for genre in df['genre']]})\n",
    "#Формирование наборов данных\n",
    "df_morphy = pd.DataFrame({'text':[tokenize_morphy(sample) \n",
    "for sample in df['premise']]})\n",
    "df_snowball = pd.DataFrame({'text':[tokenize_snowball(sample) \n",
    "for sample in df['premise']]})\n",
    "df_lancaster = pd.DataFrame({'text':[tokenize_lancaster(sample) \n",
    "for sample in df['premise']]})\n",
    "#Очистка от пустот\n",
    "X1 = df_lancaster.dropna()\n",
    "X2 = df_morphy.dropna()\n",
    "X3 = df_snowball.dropna()\n",
    "#формирование данных в виде \"текст - класс\"\n",
    "batch1 = X1.join(Y, how = 'right')\n",
    "batch2 = X2.join(Y, how = 'right')\n",
    "batch3 = X3.join(Y, how = 'right')"
   ]
  }
 ],
 "metadata": {
  "kernelspec": {
   "display_name": "Python 3",
   "language": "python",
   "name": "python3"
  },
  "language_info": {
   "codemirror_mode": {
    "name": "ipython",
    "version": 3
   },
   "file_extension": ".py",
   "mimetype": "text/x-python",
   "name": "python",
   "nbconvert_exporter": "python",
   "pygments_lexer": "ipython3",
   "version": "3.10.13"
  }
 },
 "nbformat": 4,
 "nbformat_minor": 2
}
