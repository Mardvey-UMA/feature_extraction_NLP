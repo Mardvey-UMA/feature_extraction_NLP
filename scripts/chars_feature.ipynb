{
 "cells": [
  {
   "cell_type": "markdown",
   "metadata": {},
   "source": [
    "Иморт библиотек и заранее подготовленных данных"
   ]
  },
  {
   "cell_type": "code",
   "execution_count": 16,
   "metadata": {},
   "outputs": [],
   "source": [
    "import import_ipynb\n",
    "import import_librares # ноутбук с импортом библиотек\n",
    "import func # ноутбук с функциями\n",
    "import rus_ds_data # ноутбук с загрузкой и предварительной обрабткой русского датасета\n",
    "from ipynb.fs.full.func import tokenize_morphy, tokenize_lancaster, tokenize_snowball\n",
    "from sklearn.metrics import accuracy_score"
   ]
  },
  {
   "cell_type": "code",
   "execution_count": 17,
   "metadata": {},
   "outputs": [],
   "source": [
    "from rus_ds_data import\\\n",
    "    df, Y, df_morphy, df_snowball, df_lancaster\\\n",
    "    , X1, X2, X3, batch1, batch2, batch3"
   ]
  },
  {
   "cell_type": "code",
   "execution_count": 18,
   "metadata": {},
   "outputs": [],
   "source": [
    "from import_librares import CountVectorizer, TfidfVectorizer, pd, np, plt, train_test_split\\\n",
    ",LogisticRegression, classification_report, roc_auc_score, MaxAbsScaler, GridSearchCV\\\n",
    ",cross_val_score, ppb, Word2Vec"
   ]
  },
  {
   "cell_type": "markdown",
   "metadata": {},
   "source": [
    "Обучение"
   ]
  },
  {
   "cell_type": "code",
   "execution_count": 19,
   "metadata": {},
   "outputs": [],
   "source": [
    "X = pd.DataFrame({'text': [text for text in df['premise']]})"
   ]
  },
  {
   "cell_type": "code",
   "execution_count": 20,
   "metadata": {},
   "outputs": [],
   "source": [
    "x_train, x_test, y_train, y_test = train_test_split(X.text, Y.genre, random_state = 13)"
   ]
  },
  {
   "cell_type": "code",
   "execution_count": 21,
   "metadata": {},
   "outputs": [
    {
     "name": "stdout",
     "output_type": "stream",
     "text": [
      "              precision    recall  f1-score   support\n",
      "\n",
      "     fiction       0.87      0.91      0.89       137\n",
      "    interfax       0.91      0.86      0.88       137\n",
      "\n",
      "    accuracy                           0.89       274\n",
      "   macro avg       0.89      0.89      0.89       274\n",
      "weighted avg       0.89      0.89      0.89       274\n",
      "\n"
     ]
    }
   ],
   "source": [
    "# Аналогично мешку слов, только добавляем параметр analyzer=\"char\"\n",
    "# который в качестве признаков берет каждый символ, поэтому используются \"сырые\" данные\n",
    "vec = CountVectorizer(ngram_range=(1, 1), analyzer=\"char\")\n",
    "bow = vec.fit_transform(x_train)\n",
    "bow_test = vec.transform(x_test)\n",
    "\n",
    "scaler = MaxAbsScaler()\n",
    "bow = scaler.fit_transform(bow)\n",
    "bow_test = scaler.transform(bow_test)\n",
    "\n",
    "clf = LogisticRegression(max_iter=200, random_state=42)\n",
    "clf.fit(bow, y_train)\n",
    "pred = clf.predict(bow_test)\n",
    "print(classification_report(y_test, pred))"
   ]
  },
  {
   "cell_type": "code",
   "execution_count": 22,
   "metadata": {},
   "outputs": [
    {
     "data": {
      "text/plain": [
       "'\"'"
      ]
     },
     "execution_count": 22,
     "metadata": {},
     "output_type": "execute_result"
    }
   ],
   "source": [
    "# наиболее весомый символ:\n",
    "reverse_vocab = {value: key for key, value in vec.vocabulary_.items()}\n",
    "reverse_vocab[np.argmax(clf.coef_)]"
   ]
  }
 ],
 "metadata": {
  "kernelspec": {
   "display_name": "Python 3",
   "language": "python",
   "name": "python3"
  },
  "language_info": {
   "codemirror_mode": {
    "name": "ipython",
    "version": 3
   },
   "file_extension": ".py",
   "mimetype": "text/x-python",
   "name": "python",
   "nbconvert_exporter": "python",
   "pygments_lexer": "ipython3",
   "version": "3.10.13"
  }
 },
 "nbformat": 4,
 "nbformat_minor": 2
}
