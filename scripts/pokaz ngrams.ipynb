{
 "cells": [
  {
   "cell_type": "code",
   "execution_count": 81,
   "metadata": {},
   "outputs": [],
   "source": [
    "import nltk\n",
    "from nltk import sent_tokenize, word_tokenize\n",
    "from nltk import wordpunct_tokenize\n",
    "from nltk.corpus import stopwords\n",
    "from nltk.stem import LancasterStemmer\n",
    "from nltk.stem import SnowballStemmer\n",
    "import pandas as pd\n",
    "import numpy as np\n",
    "import spacy\n",
    "import sklearn\n",
    "import pymorphy2\n",
    "from pymorphy2 import MorphAnalyzer\n",
    "import string\n",
    "import re\n",
    "from collections import defaultdict\n",
    "from sklearn.feature_extraction.text import CountVectorizer\n",
    "from sklearn.feature_extraction.text import TfidfVectorizer\n",
    "import gensim\n",
    "import matplotlib_inline\n",
    "import matplotlib.pyplot as plt\n",
    "from sklearn.model_selection import train_test_split\n",
    "from sklearn.linear_model import LogisticRegression\n",
    "from sklearn.metrics import classification_report, roc_auc_score\n",
    "from sklearn.preprocessing import MaxAbsScaler\n",
    "from sklearn.model_selection import GridSearchCV\n",
    "from sklearn.model_selection import cross_val_score\n",
    "import torch\n",
    "import transformers as ppb\n",
    "import warnings\n",
    "from gensim.models import Word2Vec\n",
    "warnings.filterwarnings('ignore')\n",
    "import gensim.downloader\n",
    "import string\n",
    "from sklearn.feature_extraction.text import TfidfVectorizer\n",
    "import pandas as pd\n",
    "import numpy as np\n",
    "import matplotlib.pyplot as plt\n",
    "import seaborn as sns\n",
    "%matplotlib inline\n",
    "from wordcloud import WordCloud\n",
    "from sklearn.svm import SVC \n",
    "from sklearn.tree import DecisionTreeClassifier \n",
    "from sklearn.ensemble import RandomForestClassifier, GradientBoostingClassifier, AdaBoostClassifier\n",
    "from sklearn.neighbors import KNeighborsClassifier\n",
    "from sklearn.metrics import accuracy_score, precision_score, recall_score, f1_score"
   ]
  },
  {
   "cell_type": "code",
   "execution_count": 82,
   "metadata": {},
   "outputs": [
    {
     "name": "stderr",
     "output_type": "stream",
     "text": [
      "[nltk_data] Downloading package stopwords to\n",
      "[nltk_data]     C:\\Users\\chike\\AppData\\Roaming\\nltk_data...\n",
      "[nltk_data]   Package stopwords is already up-to-date!\n",
      "[nltk_data] Downloading package punkt to\n",
      "[nltk_data]     C:\\Users\\chike\\AppData\\Roaming\\nltk_data...\n",
      "[nltk_data]   Package punkt is already up-to-date!\n"
     ]
    }
   ],
   "source": [
    "nltk.download('stopwords')\n",
    "nltk.download('punkt')\n",
    "patterns = \"[A-Za-z0-9!#$%&'()*+,./:;<=>?@[\\]^_`{|}~—\\\"\\-]+\"\n",
    "rus = \"russian\"\n",
    "morph = MorphAnalyzer()\n",
    "lancaster = LancasterStemmer()\n",
    "snowball = SnowballStemmer(language=rus)\n",
    "vectorizer = CountVectorizer()"
   ]
  },
  {
   "cell_type": "code",
   "execution_count": 83,
   "metadata": {},
   "outputs": [],
   "source": [
    "#ф-я для вывода текстовых данных в удобном формате\n",
    "def print_table(array):\n",
    "    table_width = 5\n",
    "    for i in range(0, len(array), table_width):\n",
    "        row = array[i:i + table_width]\n",
    "        formatted_row = \" \".join([\"{:<10}\".format(str(elem)) for elem in row])\n",
    "        print(formatted_row)\n",
    "#ф-я для удаления символов пунктуации\n",
    "def remove_punctuation(text):\n",
    "    return ''.join([ch for ch in text if ch not in \n",
    "    string.punctuation])\n",
    "#ф-я для удаления чисел\n",
    "def remove_numbers(text):\n",
    "    return ''.join([i if not i.isdigit() else ' ' for i in text]) \n",
    "#ф-я для удаления последовательностей\n",
    "def remove_patterns(text):\n",
    "    text = re.sub(patterns, ' ', text)\n",
    "    return text\n",
    "#ф-я для удаления не буквенных символов\n",
    "def remove_notalpha(text):\n",
    "    return ''.join(i if i.isalpha() else ' ' for i in text)\n",
    "#ф-я токенизации с использованием Snowball\n",
    "def tokenize_snowball(text):\n",
    "    text = remove_notalpha(text)\n",
    "    text = remove_numbers(text)\n",
    "    text = remove_punctuation(text)\n",
    "    text = remove_patterns(text)\n",
    "    sentences = sent_tokenize(text, language=rus)\n",
    "    all_words = []\n",
    "    for sent in sentences:\n",
    "        words = word_tokenize(sent, language=rus)\n",
    "        for w in words:\n",
    "            if w in sw or len(w) >= 11:\n",
    "                continue\n",
    "            else:\n",
    "                all_words.append(snowball.stem(w))\n",
    "            \n",
    "    return ' '.join(all_words)\n",
    "#ф-я токенизации с использованием Lancaster\n",
    "def tokenize_lancaster(text):\n",
    "    text = remove_notalpha(text)\n",
    "    text = remove_numbers(text)\n",
    "    text = remove_patterns(text)\n",
    "    text = remove_punctuation(text)\n",
    "    sentences = sent_tokenize(text, language=rus)\n",
    "    all_words = []\n",
    "    for sent in sentences:\n",
    "        words = word_tokenize(sent, language=rus)\n",
    "        for w in words:\n",
    "            if w in sw or len(w) >= 11:\n",
    "                continue\n",
    "            else:\n",
    "                all_words.append(lancaster.stem(w))\n",
    "    return ' '.join(all_words)\n",
    "#ф-я токенизации с помощью PyMorphy2\n",
    "def tokenize_morphy(text):\n",
    "    sw = stopwords.words(rus)\n",
    "    # добавил слово \"это\", \"мочь\", \"свой\", \"который\", \"решить\", \"сказать\"\n",
    "    sw += [\"это\", \"мочь\", \"свой\", \"который\", \"решить\", \"сказать\"]\n",
    "    text = remove_notalpha(text)\n",
    "    text = remove_patterns(text)\n",
    "    text = remove_numbers(text)\n",
    "    text = remove_punctuation(text)\n",
    "    text = text.lower()\n",
    "    sentences = sent_tokenize(text, language=rus)\n",
    "    all_words = []\n",
    "    for sent in sentences:\n",
    "        words = word_tokenize(sent, language=rus)\n",
    "        for w in words:\n",
    "            if w in sw:\n",
    "                all_words.append(\"\")\n",
    "            else:\n",
    "                all_words.append(morph.normal_forms(w)[0])\n",
    "    if len(all_words) > 2:\n",
    "        return ' '.join(all_words)\n",
    "    else:\n",
    "        return None\n",
    "    "
   ]
  },
  {
   "cell_type": "code",
   "execution_count": 84,
   "metadata": {},
   "outputs": [
    {
     "data": {
      "text/html": [
       "<div>\n",
       "<style scoped>\n",
       "    .dataframe tbody tr th:only-of-type {\n",
       "        vertical-align: middle;\n",
       "    }\n",
       "\n",
       "    .dataframe tbody tr th {\n",
       "        vertical-align: top;\n",
       "    }\n",
       "\n",
       "    .dataframe thead th {\n",
       "        text-align: right;\n",
       "    }\n",
       "</style>\n",
       "<table border=\"1\" class=\"dataframe\">\n",
       "  <thead>\n",
       "    <tr style=\"text-align: right;\">\n",
       "      <th></th>\n",
       "      <th>premise</th>\n",
       "      <th>genre</th>\n",
       "    </tr>\n",
       "  </thead>\n",
       "  <tbody>\n",
       "    <tr>\n",
       "      <th>0</th>\n",
       "      <td>Сумма ущерба составила одну тысячу рублей. Уто...</td>\n",
       "      <td>kp</td>\n",
       "    </tr>\n",
       "    <tr>\n",
       "      <th>1</th>\n",
       "      <td>Перебрасываясь словечками, они скользят глазам...</td>\n",
       "      <td>fiction</td>\n",
       "    </tr>\n",
       "    <tr>\n",
       "      <th>2</th>\n",
       "      <td>— Разве что, — сказала она, — мы хотим где-ниб...</td>\n",
       "      <td>fiction</td>\n",
       "    </tr>\n",
       "    <tr>\n",
       "      <th>3</th>\n",
       "      <td>Зима, наконец, показала свой характер.</td>\n",
       "      <td>kp</td>\n",
       "    </tr>\n",
       "    <tr>\n",
       "      <th>4</th>\n",
       "      <td>Гуманность Бога подобным сценарием не предпола...</td>\n",
       "      <td>fiction</td>\n",
       "    </tr>\n",
       "  </tbody>\n",
       "</table>\n",
       "</div>"
      ],
      "text/plain": [
       "                                             premise    genre\n",
       "0  Сумма ущерба составила одну тысячу рублей. Уто...       kp\n",
       "1  Перебрасываясь словечками, они скользят глазам...  fiction\n",
       "2  — Разве что, — сказала она, — мы хотим где-ниб...  fiction\n",
       "3             Зима, наконец, показала свой характер.       kp\n",
       "4  Гуманность Бога подобным сценарием не предпола...  fiction"
      ]
     },
     "execution_count": 84,
     "metadata": {},
     "output_type": "execute_result"
    }
   ],
   "source": [
    "#Загрузка русского датасета и объедниение \n",
    "train_path = 'C:\\\\course_work\\\\feature_extraction_NLP\\\\data\\\\test_ds1\\\\train.jsonl'\n",
    "val_path = 'C:\\\\course_work\\\\feature_extraction_NLP\\\\data\\\\test_ds1\\\\val.jsonl'\n",
    "train_data = pd.read_json(train_path, lines=True)\n",
    "val_data = pd.read_json(val_path, lines=True)\n",
    "df = pd.concat([train_data, val_data])\n",
    "df = df.drop(['label', 'hypothesis', 'verb','negation'\n",
    ",'idx','no_negation'], axis=1)\n",
    "df.dropna()\n",
    "df.head()\n"
   ]
  },
  {
   "cell_type": "code",
   "execution_count": 85,
   "metadata": {},
   "outputs": [
    {
     "data": {
      "text/plain": [
       "<seaborn.axisgrid.FacetGrid at 0x182e6e7e0e0>"
      ]
     },
     "execution_count": 85,
     "metadata": {},
     "output_type": "execute_result"
    },
    {
     "data": {
      "image/png": "[encoded data removed]",
      "text/plain": [
       "<Figure size 500x500 with 1 Axes>"
      ]
     },
     "metadata": {},
     "output_type": "display_data"
    }
   ],
   "source": [
    "#Объединение двух похожих классов\n",
    "df['genre'] = df['genre'].replace('kp', 'interfax')\n",
    "#Проверка на сбалансированность\n",
    "sns.displot(data=df, x = 'genre', kde = True)\n",
    "#plt.show()"
   ]
  },
  {
   "cell_type": "code",
   "execution_count": 86,
   "metadata": {},
   "outputs": [
    {
     "data": {
      "text/plain": [
       "['и',\n",
       " 'в',\n",
       " 'во',\n",
       " 'не',\n",
       " 'что',\n",
       " 'он',\n",
       " 'на',\n",
       " 'я',\n",
       " 'с',\n",
       " 'со',\n",
       " 'как',\n",
       " 'а',\n",
       " 'то',\n",
       " 'все',\n",
       " 'она',\n",
       " 'так',\n",
       " 'его',\n",
       " 'но',\n",
       " 'да',\n",
       " 'ты',\n",
       " 'к',\n",
       " 'у',\n",
       " 'же',\n",
       " 'вы',\n",
       " 'за',\n",
       " 'бы',\n",
       " 'по',\n",
       " 'только',\n",
       " 'ее',\n",
       " 'мне',\n",
       " 'было',\n",
       " 'вот',\n",
       " 'от',\n",
       " 'меня',\n",
       " 'еще',\n",
       " 'нет',\n",
       " 'о',\n",
       " 'из',\n",
       " 'ему',\n",
       " 'теперь',\n",
       " 'когда',\n",
       " 'даже',\n",
       " 'ну',\n",
       " 'вдруг',\n",
       " 'ли',\n",
       " 'если',\n",
       " 'уже',\n",
       " 'или',\n",
       " 'ни',\n",
       " 'быть',\n",
       " 'был',\n",
       " 'него',\n",
       " 'до',\n",
       " 'вас',\n",
       " 'нибудь',\n",
       " 'опять',\n",
       " 'уж',\n",
       " 'вам',\n",
       " 'ведь',\n",
       " 'там',\n",
       " 'потом',\n",
       " 'себя',\n",
       " 'ничего',\n",
       " 'ей',\n",
       " 'может',\n",
       " 'они',\n",
       " 'тут',\n",
       " 'где',\n",
       " 'есть',\n",
       " 'надо',\n",
       " 'ней',\n",
       " 'для',\n",
       " 'мы',\n",
       " 'тебя',\n",
       " 'их',\n",
       " 'чем',\n",
       " 'была',\n",
       " 'сам',\n",
       " 'чтоб',\n",
       " 'без',\n",
       " 'будто',\n",
       " 'чего',\n",
       " 'раз',\n",
       " 'тоже',\n",
       " 'себе',\n",
       " 'под',\n",
       " 'будет',\n",
       " 'ж',\n",
       " 'тогда',\n",
       " 'кто',\n",
       " 'этот',\n",
       " 'того',\n",
       " 'потому',\n",
       " 'этого',\n",
       " 'какой',\n",
       " 'совсем',\n",
       " 'ним',\n",
       " 'здесь',\n",
       " 'этом',\n",
       " 'один',\n",
       " 'почти',\n",
       " 'мой',\n",
       " 'тем',\n",
       " 'чтобы',\n",
       " 'нее',\n",
       " 'сейчас',\n",
       " 'были',\n",
       " 'куда',\n",
       " 'зачем',\n",
       " 'всех',\n",
       " 'никогда',\n",
       " 'можно',\n",
       " 'при',\n",
       " 'наконец',\n",
       " 'два',\n",
       " 'об',\n",
       " 'другой',\n",
       " 'хоть',\n",
       " 'после',\n",
       " 'над',\n",
       " 'больше',\n",
       " 'тот',\n",
       " 'через',\n",
       " 'эти',\n",
       " 'нас',\n",
       " 'про',\n",
       " 'всего',\n",
       " 'них',\n",
       " 'какая',\n",
       " 'много',\n",
       " 'разве',\n",
       " 'три',\n",
       " 'эту',\n",
       " 'моя',\n",
       " 'впрочем',\n",
       " 'хорошо',\n",
       " 'свою',\n",
       " 'этой',\n",
       " 'перед',\n",
       " 'иногда',\n",
       " 'лучше',\n",
       " 'чуть',\n",
       " 'том',\n",
       " 'нельзя',\n",
       " 'такой',\n",
       " 'им',\n",
       " 'более',\n",
       " 'всегда',\n",
       " 'конечно',\n",
       " 'всю',\n",
       " 'между',\n",
       " 'это',\n",
       " 'мочь',\n",
       " 'свой',\n",
       " 'который',\n",
       " 'решить',\n",
       " 'сказать']"
      ]
     },
     "execution_count": 86,
     "metadata": {},
     "output_type": "execute_result"
    }
   ],
   "source": [
    "sw = stopwords.words(rus)\n",
    "# добавил слово \"это\", \"мочь\", \"свой\", \"который\", \"решить\", \"сказать\"\n",
    "sw += [\"это\", \"мочь\", \"свой\", \"который\", \"решить\", \"сказать\"]\n",
    "sw"
   ]
  },
  {
   "cell_type": "code",
   "execution_count": 87,
   "metadata": {},
   "outputs": [],
   "source": [
    "#Y = #pd.DataFrame({'genre':[0 if genre == 'fiction' else 1 for genre in df['genre']]})\n",
    "Y = pd.DataFrame({'genre':[str(genre) for genre in df['genre']]})\n",
    "#Формирование наборов данных\n",
    "df_morphy = pd.DataFrame({'text':[tokenize_morphy(sample) \n",
    "for sample in df['premise']]})\n",
    "df_snowball = pd.DataFrame({'text':[tokenize_snowball(sample) \n",
    "for sample in df['premise']]})\n",
    "df_lancaster = pd.DataFrame({'text':[tokenize_lancaster(sample) \n",
    "for sample in df['premise']]})\n",
    "#Очистка от пустот\n",
    "X1 = df_lancaster.dropna()\n",
    "X2 = df_morphy.dropna()\n",
    "X3 = df_snowball.dropna()\n",
    "#формирование данных в виде \"текст - класс\"\n",
    "batch1 = X1.join(Y, how = 'right')\n",
    "batch2 = X2.join(Y, how = 'right')\n",
    "batch3 = X3.join(Y, how = 'right')"
   ]
  },
  {
   "cell_type": "code",
   "execution_count": null,
   "metadata": {},
   "outputs": [
    {
     "data": {
      "text/plain": [
       "array(['interfax', 'fiction'], dtype=object)"
      ]
     },
     "execution_count": 48,
     "metadata": {},
     "output_type": "execute_result"
    }
   ],
   "source": [
    "Y['genre'].unique()"
   ]
  },
  {
   "cell_type": "code",
   "execution_count": null,
   "metadata": {},
   "outputs": [],
   "source": [
    "STOPWORDS_ = sw"
   ]
  },
  {
   "cell_type": "code",
   "execution_count": null,
   "metadata": {},
   "outputs": [],
   "source": []
  },
  {
   "cell_type": "code",
   "execution_count": null,
   "metadata": {},
   "outputs": [],
   "source": []
  },
  {
   "cell_type": "code",
   "execution_count": null,
   "metadata": {},
   "outputs": [],
   "source": []
  },
  {
   "cell_type": "code",
   "execution_count": null,
   "metadata": {},
   "outputs": [],
   "source": []
  },
  {
   "cell_type": "code",
   "execution_count": null,
   "metadata": {},
   "outputs": [],
   "source": []
  },
  {
   "cell_type": "code",
   "execution_count": null,
   "metadata": {},
   "outputs": [],
   "source": [
    "#Разбиение на данные\n",
    "X_train, X_test, y_train, y_test = train_test_split(batch2['text'], batch2['genre'], test_size = 0.2, random_state = 13)"
   ]
  },
  {
   "cell_type": "code",
   "execution_count": null,
   "metadata": {},
   "outputs": [
    {
     "data": {
      "text/plain": [
       "314    мой любимый покупка обувь  дух      терпеть  м...\n",
       "99       материться   врать ловить  поличное неоднокр...\n",
       "838    выходить  угадать  судьба   действительно съес...\n",
       "865    назвать сборник  последний рассказ скроить  ре...\n",
       "614       бывало снисхождение жалость  тепло человек ...\n",
       "                             ...                        \n",
       "866      всякий случай       возненавидеть   институт...\n",
       "742     признать   совершить непозволительный ошибка ...\n",
       "74      считать  пока  нужно торопиться  регистрация ...\n",
       "176      начинать увлекаться кинематограф  раз  брать...\n",
       "338    вина женщина признать частично мотив  совершен...\n",
       "Name: text, Length: 876, dtype: object"
      ]
     },
     "execution_count": 51,
     "metadata": {},
     "output_type": "execute_result"
    }
   ],
   "source": [
    "X_train"
   ]
  },
  {
   "cell_type": "code",
   "execution_count": null,
   "metadata": {},
   "outputs": [],
   "source": [
    "def score_report(y_test, pred):\n",
    "    acc =       accuracy_score(y_test, pred)\n",
    "    recall =    recall_score(y_test, pred, average=\"binary\", pos_label=\"fiction\")\n",
    "    precision = precision_score(y_test, pred, average=\"binary\", pos_label=\"fiction\")\n",
    "    f1score =  f1_score(y_test, pred, average=\"binary\", pos_label=\"fiction\")\n",
    "    scores = pd.DataFrame({\"Accuracy\" : [acc], \"Recall\" : [recall], \"Precision\" : [precision], \"f1score\" : [f1score]})\n",
    "    return scores"
   ]
  },
  {
   "cell_type": "code",
   "execution_count": null,
   "metadata": {},
   "outputs": [
    {
     "data": {
      "text/html": [
       "<div>\n",
       "<style scoped>\n",
       "    .dataframe tbody tr th:only-of-type {\n",
       "        vertical-align: middle;\n",
       "    }\n",
       "\n",
       "    .dataframe tbody tr th {\n",
       "        vertical-align: top;\n",
       "    }\n",
       "\n",
       "    .dataframe thead th {\n",
       "        text-align: right;\n",
       "    }\n",
       "</style>\n",
       "<table border=\"1\" class=\"dataframe\">\n",
       "  <thead>\n",
       "    <tr style=\"text-align: right;\">\n",
       "      <th></th>\n",
       "      <th>Accuracy</th>\n",
       "      <th>Recall</th>\n",
       "      <th>Precision</th>\n",
       "      <th>f1score</th>\n",
       "    </tr>\n",
       "  </thead>\n",
       "  <tbody>\n",
       "    <tr>\n",
       "      <th>0</th>\n",
       "      <td>0.845455</td>\n",
       "      <td>0.946903</td>\n",
       "      <td>0.792593</td>\n",
       "      <td>0.862903</td>\n",
       "    </tr>\n",
       "  </tbody>\n",
       "</table>\n",
       "</div>"
      ],
      "text/plain": [
       "   Accuracy    Recall  Precision   f1score\n",
       "0  0.845455  0.946903   0.792593  0.862903"
      ]
     },
     "execution_count": 53,
     "metadata": {},
     "output_type": "execute_result"
    }
   ],
   "source": [
    "# объявляем экземпляр класса CountVectorizer\n",
    "# используем униграммы, то есть каждое слово отдельно\n",
    "vec = CountVectorizer(ngram_range=(1, 2))\n",
    "# формируем мешок слов на тренировочных данных, используем fit_transform\n",
    "# для обучения векторизатора на тренировочных данных\n",
    "bow = vec.fit_transform(X_train.values.astype('U')) \n",
    "# преобразуем тестовые данные в числовые векторы используя обученный векторизатор\n",
    "bow_test = vec.transform(X_test)\n",
    "# Используем MaxAbsScaler для приведения всех признаков к одинаковому масштабу\n",
    "scaler = MaxAbsScaler() \n",
    "# обучаем масштабировщик на тренирвочных данных и преобразуем\n",
    "bow = scaler.fit_transform(bow) \n",
    "# применяем обученный масштабировщик к тестовым данным\n",
    "bow_test = scaler.transform(bow_test) \n",
    "\n",
    "# обучаем логистическую регрессию на масштабированных тренировочных данных\n",
    "clf = LogisticRegression(max_iter=200, random_state=42)\n",
    "clf.fit(bow, y_train)\n",
    "\n",
    "# получаем предсказание на тестовых данных\n",
    "pred = clf.predict(bow_test)\n",
    "bow_features = [bow, bow_test,y_train,y_test]\n",
    "# отчет о классификации с использованием разилчных метрик\n",
    "score_report(y_test, pred)"
   ]
  },
  {
   "cell_type": "code",
   "execution_count": null,
   "metadata": {},
   "outputs": [],
   "source": [
    "#Разбиение на данные\n",
    "X_train, X_test, y_train, y_test = train_test_split(batch2['text'], batch2['genre'], test_size = 0.2, random_state = 13)"
   ]
  },
  {
   "cell_type": "code",
   "execution_count": null,
   "metadata": {},
   "outputs": [
    {
     "data": {
      "text/plain": [
       "374    глубина колея указывать    транспортный средст...\n",
       "279     привязать  сад  пойти пожалуйста   думать    ...\n",
       "893     казаться главный источник  накопиться   недор...\n",
       "955        утверждать   знать заранее   врать сказать...\n",
       "948    пользователь спорить   цвет российский  францу...\n",
       "                             ...                        \n",
       "302       мочь забыть  помнить вообще   живой сигарет...\n",
       "133      дать соврать    правда мечтать  старший брат...\n",
       "980      жизнь натерпеться  идти  поликлиника   урод ...\n",
       "690    представитель агентство заявить  расследование...\n",
       "631     оставлять  сторона экономика проект   ресурсн...\n",
       "Name: text, Length: 220, dtype: object"
      ]
     },
     "execution_count": 55,
     "metadata": {},
     "output_type": "execute_result"
    }
   ],
   "source": [
    "X_test"
   ]
  },
  {
   "cell_type": "code",
   "execution_count": null,
   "metadata": {},
   "outputs": [
    {
     "data": {
      "text/html": [
       "<div>\n",
       "<style scoped>\n",
       "    .dataframe tbody tr th:only-of-type {\n",
       "        vertical-align: middle;\n",
       "    }\n",
       "\n",
       "    .dataframe tbody tr th {\n",
       "        vertical-align: top;\n",
       "    }\n",
       "\n",
       "    .dataframe thead th {\n",
       "        text-align: right;\n",
       "    }\n",
       "</style>\n",
       "<table border=\"1\" class=\"dataframe\">\n",
       "  <thead>\n",
       "    <tr style=\"text-align: right;\">\n",
       "      <th></th>\n",
       "      <th>Accuracy</th>\n",
       "      <th>Recall</th>\n",
       "      <th>Precision</th>\n",
       "      <th>f1score</th>\n",
       "    </tr>\n",
       "  </thead>\n",
       "  <tbody>\n",
       "    <tr>\n",
       "      <th>0</th>\n",
       "      <td>0.840909</td>\n",
       "      <td>0.938053</td>\n",
       "      <td>0.791045</td>\n",
       "      <td>0.8583</td>\n",
       "    </tr>\n",
       "  </tbody>\n",
       "</table>\n",
       "</div>"
      ],
      "text/plain": [
       "   Accuracy    Recall  Precision  f1score\n",
       "0  0.840909  0.938053   0.791045   0.8583"
      ]
     },
     "execution_count": 56,
     "metadata": {},
     "output_type": "execute_result"
    }
   ],
   "source": [
    "\n",
    "# создаем объект класса TfidVectorizer, min_df = 5 означает, что слова, которые встречаются\n",
    "# менее чем в 5% документов будут игнорироваться\n",
    "# используем униграммы, то есть пословный анализ\n",
    "# max_df = 1.0 означает, что слова, которые используются в каждом документе также игнорируются\n",
    "tfidf = TfidfVectorizer(min_df = 5, max_df = 1.0, ngram_range = (1, 2))\n",
    "# обучаем TfidfVectorizer на тренировочных данных\n",
    "# определяем словарь признаков, для дальнейшего преобразования в векторы\n",
    "tfidf.fit(X_train.values.astype('U'))\n",
    "# преобразуем текстовые данные в числовые векторы\n",
    "Xtrain = tfidf.transform(X_train.values.astype('U'))\n",
    "Xtest = tfidf.transform(X_test.values.astype('U'))\n",
    "# Обучаем классификатор логистическую регрессию\n",
    "lr_clf = LogisticRegression(max_iter=300, random_state=42)\n",
    "lr_clf.fit(Xtrain, y_train)\n",
    "\n",
    "# делаем предсказания на тренировочных и тестовых данных\n",
    "#lr_train_pred = lr_clf.predict(Xtrain)\n",
    "pred = lr_clf.predict(Xtest)\n",
    "tfidf_features = [Xtrain, Xtest, y_train, y_test]\n",
    "score_report(y_test, pred)"
   ]
  },
  {
   "cell_type": "code",
   "execution_count": null,
   "metadata": {},
   "outputs": [],
   "source": [
    "#batch2.dropna()"
   ]
  },
  {
   "cell_type": "code",
   "execution_count": null,
   "metadata": {},
   "outputs": [
    {
     "data": {
      "text/html": [
       "<div>\n",
       "<style scoped>\n",
       "    .dataframe tbody tr th:only-of-type {\n",
       "        vertical-align: middle;\n",
       "    }\n",
       "\n",
       "    .dataframe tbody tr th {\n",
       "        vertical-align: top;\n",
       "    }\n",
       "\n",
       "    .dataframe thead th {\n",
       "        text-align: right;\n",
       "    }\n",
       "</style>\n",
       "<table border=\"1\" class=\"dataframe\">\n",
       "  <thead>\n",
       "    <tr style=\"text-align: right;\">\n",
       "      <th></th>\n",
       "      <th>text</th>\n",
       "      <th>genre</th>\n",
       "    </tr>\n",
       "  </thead>\n",
       "  <tbody>\n",
       "    <tr>\n",
       "      <th>0</th>\n",
       "      <td>сумма ущерб составить один тысяча рубль уточня...</td>\n",
       "      <td>interfax</td>\n",
       "    </tr>\n",
       "    <tr>\n",
       "      <th>1</th>\n",
       "      <td>перебрасываться словечко  скользить глаз  мой ...</td>\n",
       "      <td>fiction</td>\n",
       "    </tr>\n",
       "    <tr>\n",
       "      <th>2</th>\n",
       "      <td>сказать   хотеть   выпить кофе  казаться ска...</td>\n",
       "      <td>fiction</td>\n",
       "    </tr>\n",
       "    <tr>\n",
       "      <th>3</th>\n",
       "      <td>зима  показать  характер</td>\n",
       "      <td>interfax</td>\n",
       "    </tr>\n",
       "    <tr>\n",
       "      <th>4</th>\n",
       "      <td>гуманность бог подобный сценарий  предполагать...</td>\n",
       "      <td>fiction</td>\n",
       "    </tr>\n",
       "    <tr>\n",
       "      <th>...</th>\n",
       "      <td>...</td>\n",
       "      <td>...</td>\n",
       "    </tr>\n",
       "    <tr>\n",
       "      <th>1091</th>\n",
       "      <td>кто  нужный  нужно забрать  сумасшедший дом  о...</td>\n",
       "      <td>fiction</td>\n",
       "    </tr>\n",
       "    <tr>\n",
       "      <th>1092</th>\n",
       "      <td>равно любить сказать      вернуться   знат...</td>\n",
       "      <td>fiction</td>\n",
       "    </tr>\n",
       "    <tr>\n",
       "      <th>1093</th>\n",
       "      <td>слово  помнить лишь  собираться выйти  дом  ...</td>\n",
       "      <td>interfax</td>\n",
       "    </tr>\n",
       "    <tr>\n",
       "      <th>1094</th>\n",
       "      <td>допросить гость следователь восстановить карти...</td>\n",
       "      <td>interfax</td>\n",
       "    </tr>\n",
       "    <tr>\n",
       "      <th>1095</th>\n",
       "      <td>стать   откровение  понять   весь народ   про...</td>\n",
       "      <td>fiction</td>\n",
       "    </tr>\n",
       "  </tbody>\n",
       "</table>\n",
       "<p>1096 rows × 2 columns</p>\n",
       "</div>"
      ],
      "text/plain": [
       "                                                   text     genre\n",
       "0     сумма ущерб составить один тысяча рубль уточня...  interfax\n",
       "1     перебрасываться словечко  скользить глаз  мой ...   fiction\n",
       "2       сказать   хотеть   выпить кофе  казаться ска...   fiction\n",
       "3                              зима  показать  характер  interfax\n",
       "4     гуманность бог подобный сценарий  предполагать...   fiction\n",
       "...                                                 ...       ...\n",
       "1091  кто  нужный  нужно забрать  сумасшедший дом  о...   fiction\n",
       "1092      равно любить сказать      вернуться   знат...   fiction\n",
       "1093    слово  помнить лишь  собираться выйти  дом  ...  interfax\n",
       "1094  допросить гость следователь восстановить карти...  interfax\n",
       "1095   стать   откровение  понять   весь народ   про...   fiction\n",
       "\n",
       "[1096 rows x 2 columns]"
      ]
     },
     "execution_count": 58,
     "metadata": {},
     "output_type": "execute_result"
    }
   ],
   "source": [
    "batch2.dropna()"
   ]
  },
  {
   "cell_type": "code",
   "execution_count": null,
   "metadata": {},
   "outputs": [],
   "source": [
    "batch2 = batch2.dropna()\n",
    "#batch2 = batch2.reset_index(drop=True)\n",
    "#Разбиение на данные\n",
    "X_train, X_test, y_train, y_test = train_test_split(batch2[['text']], batch2[['genre']], test_size = 0.2, random_state = 13)"
   ]
  },
  {
   "cell_type": "code",
   "execution_count": null,
   "metadata": {},
   "outputs": [
    {
     "data": {
      "text/plain": [
       "(1096, 2)"
      ]
     },
     "execution_count": 60,
     "metadata": {},
     "output_type": "execute_result"
    }
   ],
   "source": [
    "batch2.shape"
   ]
  },
  {
   "cell_type": "code",
   "execution_count": null,
   "metadata": {},
   "outputs": [
    {
     "data": {
      "text/plain": [
       "(7022, 420960)"
      ]
     },
     "execution_count": 61,
     "metadata": {},
     "output_type": "execute_result"
    }
   ],
   "source": [
    "from gensim.models import Word2Vec\n",
    "sent = [row.split() for row in X_train['text']]\n",
    "HIDDEN = 100\n",
    "model = Word2Vec(min_count=20,\n",
    "                     window=2,\n",
    "                     vector_size=HIDDEN,\n",
    "                     sample=6e-5,\n",
    "                     alpha=0.03,\n",
    "                     min_alpha=0.0007,\n",
    "                     negative=20,\n",
    "                     workers=2)\n",
    "model.build_vocab(sent, progress_per=10000)\n",
    "model.train(sent, total_examples=model.corpus_count, epochs=30, report_delay=1)"
   ]
  },
  {
   "cell_type": "code",
   "execution_count": null,
   "metadata": {},
   "outputs": [],
   "source": [
    "#счет последнего вектора текста\n",
    "def get_mean_w2v_vector(sentence):\n",
    "    Sum = 0\n",
    "    Count = 0\n",
    "\n",
    "    try:\n",
    "      words = sentence.split()\n",
    "    except TypeError:\n",
    "      words = []\n",
    "\n",
    "    for w in words:\n",
    "        if w in model.wv:\n",
    "            Sum += model.wv[w]\n",
    "            # Sum += glove_vectors[w]\n",
    "            Count += 1\n",
    "\n",
    "    if Count == 0:\n",
    "        return 0\n",
    "\n",
    "    return Sum / Count"
   ]
  },
  {
   "cell_type": "code",
   "execution_count": null,
   "metadata": {},
   "outputs": [],
   "source": [
    "NewCols = ['col'+str(i) for i in range(HIDDEN)]\n",
    "\n",
    "X_train['vectors'] = X_train['text'].map(get_mean_w2v_vector)\n",
    "X_test['vectors'] = X_test['text'].map(get_mean_w2v_vector)\n"
   ]
  },
  {
   "cell_type": "code",
   "execution_count": null,
   "metadata": {},
   "outputs": [],
   "source": [
    "IdxTrain = []\n",
    "\n",
    "for ix, row in X_train.iterrows():\n",
    "    if not isinstance(row['vectors'],np.ndarray):\n",
    "        IdxTrain.append(ix)\n",
    "\n",
    "IdxTest = []\n",
    "\n",
    "for ix, row in X_test.iterrows():\n",
    "    if not isinstance(row['vectors'],np.ndarray):\n",
    "        IdxTest.append(ix)"
   ]
  },
  {
   "cell_type": "code",
   "execution_count": null,
   "metadata": {},
   "outputs": [],
   "source": [
    "X_train.drop(index=IdxTrain, inplace=True)\n",
    "X_test.drop(index=IdxTest, inplace=True)\n",
    "\n",
    "y_train = y_train.drop(index=IdxTrain)\n",
    "y_test = y_test.drop(index=IdxTest)"
   ]
  },
  {
   "cell_type": "code",
   "execution_count": null,
   "metadata": {},
   "outputs": [
    {
     "data": {
      "text/plain": [
       "(211, 1)"
      ]
     },
     "execution_count": 66,
     "metadata": {},
     "output_type": "execute_result"
    }
   ],
   "source": [
    "y_test.shape"
   ]
  },
  {
   "cell_type": "code",
   "execution_count": null,
   "metadata": {},
   "outputs": [
    {
     "data": {
      "text/plain": [
       "(211, 2)"
      ]
     },
     "execution_count": 67,
     "metadata": {},
     "output_type": "execute_result"
    }
   ],
   "source": [
    "X_test.shape"
   ]
  },
  {
   "cell_type": "code",
   "execution_count": null,
   "metadata": {},
   "outputs": [],
   "source": [
    "X_train[NewCols] = pd.DataFrame(X_train['vectors'].tolist(), index=X_train.index)\n",
    "X_test[NewCols] = pd.DataFrame(X_test['vectors'].tolist(), index=X_test.index)"
   ]
  },
  {
   "cell_type": "code",
   "execution_count": null,
   "metadata": {},
   "outputs": [],
   "source": [
    "X_train.drop(['text','vectors'], axis=1, inplace=True)\n",
    "X_test.drop(['text','vectors'], axis=1, inplace=True)"
   ]
  },
  {
   "cell_type": "code",
   "execution_count": null,
   "metadata": {},
   "outputs": [
    {
     "data": {
      "text/html": [
       "<div>\n",
       "<style scoped>\n",
       "    .dataframe tbody tr th:only-of-type {\n",
       "        vertical-align: middle;\n",
       "    }\n",
       "\n",
       "    .dataframe tbody tr th {\n",
       "        vertical-align: top;\n",
       "    }\n",
       "\n",
       "    .dataframe thead th {\n",
       "        text-align: right;\n",
       "    }\n",
       "</style>\n",
       "<table border=\"1\" class=\"dataframe\">\n",
       "  <thead>\n",
       "    <tr style=\"text-align: right;\">\n",
       "      <th></th>\n",
       "      <th>col0</th>\n",
       "      <th>col1</th>\n",
       "      <th>col2</th>\n",
       "      <th>col3</th>\n",
       "      <th>col4</th>\n",
       "      <th>col5</th>\n",
       "      <th>col6</th>\n",
       "      <th>col7</th>\n",
       "      <th>col8</th>\n",
       "      <th>col9</th>\n",
       "      <th>...</th>\n",
       "      <th>col90</th>\n",
       "      <th>col91</th>\n",
       "      <th>col92</th>\n",
       "      <th>col93</th>\n",
       "      <th>col94</th>\n",
       "      <th>col95</th>\n",
       "      <th>col96</th>\n",
       "      <th>col97</th>\n",
       "      <th>col98</th>\n",
       "      <th>col99</th>\n",
       "    </tr>\n",
       "  </thead>\n",
       "  <tbody>\n",
       "    <tr>\n",
       "      <th>314</th>\n",
       "      <td>0.002327</td>\n",
       "      <td>0.020931</td>\n",
       "      <td>-0.013729</td>\n",
       "      <td>-0.005039</td>\n",
       "      <td>0.024749</td>\n",
       "      <td>-0.051556</td>\n",
       "      <td>0.016923</td>\n",
       "      <td>0.071068</td>\n",
       "      <td>-0.027124</td>\n",
       "      <td>-0.046279</td>\n",
       "      <td>...</td>\n",
       "      <td>0.073164</td>\n",
       "      <td>0.001517</td>\n",
       "      <td>0.010386</td>\n",
       "      <td>0.018648</td>\n",
       "      <td>0.051265</td>\n",
       "      <td>0.012781</td>\n",
       "      <td>-0.015563</td>\n",
       "      <td>-0.031022</td>\n",
       "      <td>-0.015556</td>\n",
       "      <td>-0.006975</td>\n",
       "    </tr>\n",
       "    <tr>\n",
       "      <th>99</th>\n",
       "      <td>-0.001131</td>\n",
       "      <td>0.010565</td>\n",
       "      <td>-0.009961</td>\n",
       "      <td>-0.003586</td>\n",
       "      <td>0.019459</td>\n",
       "      <td>-0.036898</td>\n",
       "      <td>0.009203</td>\n",
       "      <td>0.054837</td>\n",
       "      <td>-0.014875</td>\n",
       "      <td>-0.027572</td>\n",
       "      <td>...</td>\n",
       "      <td>0.050971</td>\n",
       "      <td>0.002586</td>\n",
       "      <td>0.010215</td>\n",
       "      <td>0.009182</td>\n",
       "      <td>0.044463</td>\n",
       "      <td>0.009783</td>\n",
       "      <td>-0.009186</td>\n",
       "      <td>-0.018976</td>\n",
       "      <td>-0.009598</td>\n",
       "      <td>-0.013722</td>\n",
       "    </tr>\n",
       "    <tr>\n",
       "      <th>838</th>\n",
       "      <td>-0.000011</td>\n",
       "      <td>0.011377</td>\n",
       "      <td>-0.004541</td>\n",
       "      <td>0.001852</td>\n",
       "      <td>0.013260</td>\n",
       "      <td>-0.042153</td>\n",
       "      <td>0.014018</td>\n",
       "      <td>0.057753</td>\n",
       "      <td>-0.019036</td>\n",
       "      <td>-0.031914</td>\n",
       "      <td>...</td>\n",
       "      <td>0.054160</td>\n",
       "      <td>0.004188</td>\n",
       "      <td>0.007920</td>\n",
       "      <td>0.007378</td>\n",
       "      <td>0.046345</td>\n",
       "      <td>0.011265</td>\n",
       "      <td>-0.019990</td>\n",
       "      <td>-0.027370</td>\n",
       "      <td>-0.010612</td>\n",
       "      <td>-0.006004</td>\n",
       "    </tr>\n",
       "    <tr>\n",
       "      <th>865</th>\n",
       "      <td>-0.005707</td>\n",
       "      <td>0.018554</td>\n",
       "      <td>-0.009790</td>\n",
       "      <td>-0.000206</td>\n",
       "      <td>0.021767</td>\n",
       "      <td>-0.046103</td>\n",
       "      <td>0.010842</td>\n",
       "      <td>0.067095</td>\n",
       "      <td>-0.026702</td>\n",
       "      <td>-0.035186</td>\n",
       "      <td>...</td>\n",
       "      <td>0.070708</td>\n",
       "      <td>0.004080</td>\n",
       "      <td>0.010881</td>\n",
       "      <td>0.012975</td>\n",
       "      <td>0.052848</td>\n",
       "      <td>0.017511</td>\n",
       "      <td>-0.020068</td>\n",
       "      <td>-0.031125</td>\n",
       "      <td>-0.014901</td>\n",
       "      <td>-0.011647</td>\n",
       "    </tr>\n",
       "    <tr>\n",
       "      <th>614</th>\n",
       "      <td>-0.006509</td>\n",
       "      <td>0.031210</td>\n",
       "      <td>-0.020666</td>\n",
       "      <td>-0.002056</td>\n",
       "      <td>0.038584</td>\n",
       "      <td>-0.066650</td>\n",
       "      <td>0.018644</td>\n",
       "      <td>0.104886</td>\n",
       "      <td>-0.049636</td>\n",
       "      <td>-0.053370</td>\n",
       "      <td>...</td>\n",
       "      <td>0.102843</td>\n",
       "      <td>0.012356</td>\n",
       "      <td>0.025287</td>\n",
       "      <td>0.014963</td>\n",
       "      <td>0.089378</td>\n",
       "      <td>0.024591</td>\n",
       "      <td>-0.020101</td>\n",
       "      <td>-0.049316</td>\n",
       "      <td>-0.009902</td>\n",
       "      <td>-0.026391</td>\n",
       "    </tr>\n",
       "  </tbody>\n",
       "</table>\n",
       "<p>5 rows × 100 columns</p>\n",
       "</div>"
      ],
      "text/plain": [
       "         col0      col1      col2      col3      col4      col5      col6  \\\n",
       "314  0.002327  0.020931 -0.013729 -0.005039  0.024749 -0.051556  0.016923   \n",
       "99  -0.001131  0.010565 -0.009961 -0.003586  0.019459 -0.036898  0.009203   \n",
       "838 -0.000011  0.011377 -0.004541  0.001852  0.013260 -0.042153  0.014018   \n",
       "865 -0.005707  0.018554 -0.009790 -0.000206  0.021767 -0.046103  0.010842   \n",
       "614 -0.006509  0.031210 -0.020666 -0.002056  0.038584 -0.066650  0.018644   \n",
       "\n",
       "         col7      col8      col9  ...     col90     col91     col92  \\\n",
       "314  0.071068 -0.027124 -0.046279  ...  0.073164  0.001517  0.010386   \n",
       "99   0.054837 -0.014875 -0.027572  ...  0.050971  0.002586  0.010215   \n",
       "838  0.057753 -0.019036 -0.031914  ...  0.054160  0.004188  0.007920   \n",
       "865  0.067095 -0.026702 -0.035186  ...  0.070708  0.004080  0.010881   \n",
       "614  0.104886 -0.049636 -0.053370  ...  0.102843  0.012356  0.025287   \n",
       "\n",
       "        col93     col94     col95     col96     col97     col98     col99  \n",
       "314  0.018648  0.051265  0.012781 -0.015563 -0.031022 -0.015556 -0.006975  \n",
       "99   0.009182  0.044463  0.009783 -0.009186 -0.018976 -0.009598 -0.013722  \n",
       "838  0.007378  0.046345  0.011265 -0.019990 -0.027370 -0.010612 -0.006004  \n",
       "865  0.012975  0.052848  0.017511 -0.020068 -0.031125 -0.014901 -0.011647  \n",
       "614  0.014963  0.089378  0.024591 -0.020101 -0.049316 -0.009902 -0.026391  \n",
       "\n",
       "[5 rows x 100 columns]"
      ]
     },
     "execution_count": 70,
     "metadata": {},
     "output_type": "execute_result"
    }
   ],
   "source": [
    "X_train.head()"
   ]
  },
  {
   "cell_type": "code",
   "execution_count": null,
   "metadata": {},
   "outputs": [],
   "source": [
    "W2v_features = [X_train, X_test, y_train ,y_test]"
   ]
  },
  {
   "cell_type": "code",
   "execution_count": null,
   "metadata": {},
   "outputs": [],
   "source": [
    "#X_train, X_test, y_train, y_test = W2v_features#W2V\n",
    "#X_train, X_test, y_train, y_test = bow_features#BOW\n",
    "X_train, X_test, y_train, y_test = tfidf_features#Tf-idf"
   ]
  },
  {
   "cell_type": "code",
   "execution_count": null,
   "metadata": {},
   "outputs": [],
   "source": []
  },
  {
   "cell_type": "code",
   "execution_count": null,
   "metadata": {},
   "outputs": [
    {
     "data": {
      "text/html": [
       "<div>\n",
       "<style scoped>\n",
       "    .dataframe tbody tr th:only-of-type {\n",
       "        vertical-align: middle;\n",
       "    }\n",
       "\n",
       "    .dataframe tbody tr th {\n",
       "        vertical-align: top;\n",
       "    }\n",
       "\n",
       "    .dataframe thead th {\n",
       "        text-align: right;\n",
       "    }\n",
       "</style>\n",
       "<table border=\"1\" class=\"dataframe\">\n",
       "  <thead>\n",
       "    <tr style=\"text-align: right;\">\n",
       "      <th></th>\n",
       "      <th>Accuracy</th>\n",
       "      <th>Recall</th>\n",
       "      <th>Precision</th>\n",
       "      <th>f1score</th>\n",
       "    </tr>\n",
       "  </thead>\n",
       "  <tbody>\n",
       "    <tr>\n",
       "      <th>0</th>\n",
       "      <td>0.840909</td>\n",
       "      <td>0.938053</td>\n",
       "      <td>0.791045</td>\n",
       "      <td>0.8583</td>\n",
       "    </tr>\n",
       "  </tbody>\n",
       "</table>\n",
       "</div>"
      ],
      "text/plain": [
       "   Accuracy    Recall  Precision  f1score\n",
       "0  0.840909  0.938053   0.791045   0.8583"
      ]
     },
     "execution_count": 73,
     "metadata": {},
     "output_type": "execute_result"
    }
   ],
   "source": [
    "lr_clf = LogisticRegression()\n",
    "lr_clf.fit(X_train, y_train)\n",
    "\n",
    "#lr_train_pred = lr_clf.predict(X_train)\n",
    "pred = lr_clf.predict(X_test)\n",
    "#попробовать на своих примерах\n",
    "#(0.5509138381201044, 0.5197568389057751)\n",
    "score_report(y_test, pred)"
   ]
  },
  {
   "cell_type": "code",
   "execution_count": null,
   "metadata": {},
   "outputs": [
    {
     "data": {
      "text/html": [
       "<div>\n",
       "<style scoped>\n",
       "    .dataframe tbody tr th:only-of-type {\n",
       "        vertical-align: middle;\n",
       "    }\n",
       "\n",
       "    .dataframe tbody tr th {\n",
       "        vertical-align: top;\n",
       "    }\n",
       "\n",
       "    .dataframe thead th {\n",
       "        text-align: right;\n",
       "    }\n",
       "</style>\n",
       "<table border=\"1\" class=\"dataframe\">\n",
       "  <thead>\n",
       "    <tr style=\"text-align: right;\">\n",
       "      <th></th>\n",
       "      <th>Accuracy</th>\n",
       "      <th>Recall</th>\n",
       "      <th>Precision</th>\n",
       "      <th>f1score</th>\n",
       "    </tr>\n",
       "  </thead>\n",
       "  <tbody>\n",
       "    <tr>\n",
       "      <th>0</th>\n",
       "      <td>0.831818</td>\n",
       "      <td>0.920354</td>\n",
       "      <td>0.787879</td>\n",
       "      <td>0.84898</td>\n",
       "    </tr>\n",
       "  </tbody>\n",
       "</table>\n",
       "</div>"
      ],
      "text/plain": [
       "   Accuracy    Recall  Precision  f1score\n",
       "0  0.831818  0.920354   0.787879  0.84898"
      ]
     },
     "execution_count": 74,
     "metadata": {},
     "output_type": "execute_result"
    }
   ],
   "source": [
    "svc = SVC()\n",
    "svc.fit(X_train, y_train)\n",
    "pred = svc.predict(X_test)\n",
    "score_report(y_test, pred)"
   ]
  },
  {
   "cell_type": "code",
   "execution_count": null,
   "metadata": {},
   "outputs": [
    {
     "data": {
      "text/html": [
       "<div>\n",
       "<style scoped>\n",
       "    .dataframe tbody tr th:only-of-type {\n",
       "        vertical-align: middle;\n",
       "    }\n",
       "\n",
       "    .dataframe tbody tr th {\n",
       "        vertical-align: top;\n",
       "    }\n",
       "\n",
       "    .dataframe thead th {\n",
       "        text-align: right;\n",
       "    }\n",
       "</style>\n",
       "<table border=\"1\" class=\"dataframe\">\n",
       "  <thead>\n",
       "    <tr style=\"text-align: right;\">\n",
       "      <th></th>\n",
       "      <th>Accuracy</th>\n",
       "      <th>Recall</th>\n",
       "      <th>Precision</th>\n",
       "      <th>f1score</th>\n",
       "    </tr>\n",
       "  </thead>\n",
       "  <tbody>\n",
       "    <tr>\n",
       "      <th>0</th>\n",
       "      <td>0.777273</td>\n",
       "      <td>0.893805</td>\n",
       "      <td>0.731884</td>\n",
       "      <td>0.804781</td>\n",
       "    </tr>\n",
       "  </tbody>\n",
       "</table>\n",
       "</div>"
      ],
      "text/plain": [
       "   Accuracy    Recall  Precision   f1score\n",
       "0  0.777273  0.893805   0.731884  0.804781"
      ]
     },
     "execution_count": 75,
     "metadata": {},
     "output_type": "execute_result"
    }
   ],
   "source": [
    "gbc = GradientBoostingClassifier()\n",
    "gbc.fit(X_train, y_train)\n",
    "pred = gbc.predict(X_test)\n",
    "score_report(y_test, pred)"
   ]
  },
  {
   "cell_type": "code",
   "execution_count": null,
   "metadata": {},
   "outputs": [
    {
     "data": {
      "text/html": [
       "<div>\n",
       "<style scoped>\n",
       "    .dataframe tbody tr th:only-of-type {\n",
       "        vertical-align: middle;\n",
       "    }\n",
       "\n",
       "    .dataframe tbody tr th {\n",
       "        vertical-align: top;\n",
       "    }\n",
       "\n",
       "    .dataframe thead th {\n",
       "        text-align: right;\n",
       "    }\n",
       "</style>\n",
       "<table border=\"1\" class=\"dataframe\">\n",
       "  <thead>\n",
       "    <tr style=\"text-align: right;\">\n",
       "      <th></th>\n",
       "      <th>Accuracy</th>\n",
       "      <th>Recall</th>\n",
       "      <th>Precision</th>\n",
       "      <th>f1score</th>\n",
       "    </tr>\n",
       "  </thead>\n",
       "  <tbody>\n",
       "    <tr>\n",
       "      <th>0</th>\n",
       "      <td>0.718182</td>\n",
       "      <td>0.716814</td>\n",
       "      <td>0.72973</td>\n",
       "      <td>0.723214</td>\n",
       "    </tr>\n",
       "  </tbody>\n",
       "</table>\n",
       "</div>"
      ],
      "text/plain": [
       "   Accuracy    Recall  Precision   f1score\n",
       "0  0.718182  0.716814    0.72973  0.723214"
      ]
     },
     "execution_count": 76,
     "metadata": {},
     "output_type": "execute_result"
    }
   ],
   "source": [
    "abc = AdaBoostClassifier()\n",
    "abc.fit(X_train, y_train)\n",
    "pred = abc.predict(X_test)\n",
    "score_report(y_test, pred)"
   ]
  },
  {
   "cell_type": "code",
   "execution_count": null,
   "metadata": {},
   "outputs": [
    {
     "data": {
      "text/html": [
       "<div>\n",
       "<style scoped>\n",
       "    .dataframe tbody tr th:only-of-type {\n",
       "        vertical-align: middle;\n",
       "    }\n",
       "\n",
       "    .dataframe tbody tr th {\n",
       "        vertical-align: top;\n",
       "    }\n",
       "\n",
       "    .dataframe thead th {\n",
       "        text-align: right;\n",
       "    }\n",
       "</style>\n",
       "<table border=\"1\" class=\"dataframe\">\n",
       "  <thead>\n",
       "    <tr style=\"text-align: right;\">\n",
       "      <th></th>\n",
       "      <th>Accuracy</th>\n",
       "      <th>Recall</th>\n",
       "      <th>Precision</th>\n",
       "      <th>f1score</th>\n",
       "    </tr>\n",
       "  </thead>\n",
       "  <tbody>\n",
       "    <tr>\n",
       "      <th>0</th>\n",
       "      <td>0.822727</td>\n",
       "      <td>0.929204</td>\n",
       "      <td>0.772059</td>\n",
       "      <td>0.843373</td>\n",
       "    </tr>\n",
       "  </tbody>\n",
       "</table>\n",
       "</div>"
      ],
      "text/plain": [
       "   Accuracy    Recall  Precision   f1score\n",
       "0  0.822727  0.929204   0.772059  0.843373"
      ]
     },
     "execution_count": 77,
     "metadata": {},
     "output_type": "execute_result"
    }
   ],
   "source": [
    "rfc = RandomForestClassifier()\n",
    "rfc.fit(X_train, y_train)\n",
    "pred = rfc.predict(X_test)\n",
    "score_report(y_test, pred)"
   ]
  },
  {
   "cell_type": "code",
   "execution_count": null,
   "metadata": {},
   "outputs": [
    {
     "data": {
      "text/html": [
       "<div>\n",
       "<style scoped>\n",
       "    .dataframe tbody tr th:only-of-type {\n",
       "        vertical-align: middle;\n",
       "    }\n",
       "\n",
       "    .dataframe tbody tr th {\n",
       "        vertical-align: top;\n",
       "    }\n",
       "\n",
       "    .dataframe thead th {\n",
       "        text-align: right;\n",
       "    }\n",
       "</style>\n",
       "<table border=\"1\" class=\"dataframe\">\n",
       "  <thead>\n",
       "    <tr style=\"text-align: right;\">\n",
       "      <th></th>\n",
       "      <th>Accuracy</th>\n",
       "      <th>Recall</th>\n",
       "      <th>Precision</th>\n",
       "      <th>f1score</th>\n",
       "    </tr>\n",
       "  </thead>\n",
       "  <tbody>\n",
       "    <tr>\n",
       "      <th>0</th>\n",
       "      <td>0.713636</td>\n",
       "      <td>0.973451</td>\n",
       "      <td>0.647059</td>\n",
       "      <td>0.777385</td>\n",
       "    </tr>\n",
       "  </tbody>\n",
       "</table>\n",
       "</div>"
      ],
      "text/plain": [
       "   Accuracy    Recall  Precision   f1score\n",
       "0  0.713636  0.973451   0.647059  0.777385"
      ]
     },
     "execution_count": 78,
     "metadata": {},
     "output_type": "execute_result"
    }
   ],
   "source": [
    "knc = KNeighborsClassifier()\n",
    "knc.fit(X_train, y_train)\n",
    "pred = knc.predict(X_test)\n",
    "score_report(y_test, pred)"
   ]
  },
  {
   "cell_type": "code",
   "execution_count": null,
   "metadata": {},
   "outputs": [
    {
     "data": {
      "text/html": [
       "<div>\n",
       "<style scoped>\n",
       "    .dataframe tbody tr th:only-of-type {\n",
       "        vertical-align: middle;\n",
       "    }\n",
       "\n",
       "    .dataframe tbody tr th {\n",
       "        vertical-align: top;\n",
       "    }\n",
       "\n",
       "    .dataframe thead th {\n",
       "        text-align: right;\n",
       "    }\n",
       "</style>\n",
       "<table border=\"1\" class=\"dataframe\">\n",
       "  <thead>\n",
       "    <tr style=\"text-align: right;\">\n",
       "      <th></th>\n",
       "      <th>Accuracy</th>\n",
       "      <th>Recall</th>\n",
       "      <th>Precision</th>\n",
       "      <th>f1score</th>\n",
       "    </tr>\n",
       "  </thead>\n",
       "  <tbody>\n",
       "    <tr>\n",
       "      <th>0</th>\n",
       "      <td>0.75</td>\n",
       "      <td>0.761062</td>\n",
       "      <td>0.754386</td>\n",
       "      <td>0.757709</td>\n",
       "    </tr>\n",
       "  </tbody>\n",
       "</table>\n",
       "</div>"
      ],
      "text/plain": [
       "   Accuracy    Recall  Precision   f1score\n",
       "0      0.75  0.761062   0.754386  0.757709"
      ]
     },
     "execution_count": 79,
     "metadata": {},
     "output_type": "execute_result"
    }
   ],
   "source": [
    "dtc = DecisionTreeClassifier()\n",
    "dtc.fit(X_train, y_train)\n",
    "pred = dtc.predict(X_test)\n",
    "score_report(y_test, pred)"
   ]
  },
  {
   "cell_type": "code",
   "execution_count": null,
   "metadata": {},
   "outputs": [
    {
     "data": {
      "text/plain": [
       "array(['interfax', 'interfax', 'fiction', 'fiction'], dtype=object)"
      ]
     },
     "execution_count": 80,
     "metadata": {},
     "output_type": "execute_result"
    }
   ],
   "source": [
    "text1 = \"В архиве обнаружились данные об офшорах и зарубежных фирмах должностных лиц России или членов их семей, а также о компаниях, бенефициарами которых являются близкие друзья\"\n",
    "text2 = \"Сам Белых не признал обвинения, заявив, что эти деньги должны были пойти на нужды Кирова. Следствие продолжается, Белых отправлен в отставку и находится в СИЗО.\"\n",
    "text3 = \"И Мишка схватил мой самосвал и побежал домой. А я остался со своим светлячком, глядел на него, глядел и никак не мог наглядеться: какой он зелёный, словно в сказке, и как он хоть и близко, на ладони, а светит, словно издалека… И я не мог ровно дышать, и я слышал, как стучит моё сердце, и чуть-чуть кололо в носу, как будто хотелось плакать.\"\n",
    "text4 = \"У меня в табеле одни пятёрки. Только по чистописанию четвёрка. Из-за клякс. Я прямо не знаю, что делать! У меня всегда с пера соскакивают кляксы. Я уж макаю в чернила только самый кончик пера, а кляксы всё равно соскакивают.\"\n",
    "own_df = pd.DataFrame({'text' :[tokenize_morphy(t) for t in [text1, text2, text3, text4]]})\n",
    "series = own_df['text']\n",
    "own_test = tfidf.transform(series)\n",
    "lr_clf.predict(own_test)\n",
    "#own_test"
   ]
  }
 ],
 "metadata": {
  "kernelspec": {
   "display_name": "Python 3",
   "language": "python",
   "name": "python3"
  },
  "language_info": {
   "codemirror_mode": {
    "name": "ipython",
    "version": 3
   },
   "file_extension": ".py",
   "mimetype": "text/x-python",
   "name": "python",
   "nbconvert_exporter": "python",
   "pygments_lexer": "ipython3",
   "version": "3.10.13"
  }
 },
 "nbformat": 4,
 "nbformat_minor": 2
}
