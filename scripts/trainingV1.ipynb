{
 "cells": [
  {
   "cell_type": "code",
   "execution_count": 220,
   "metadata": {},
   "outputs": [],
   "source": [
    "import nltk\n",
    "from nltk import sent_tokenize, word_tokenize\n",
    "from nltk import wordpunct_tokenize\n",
    "from nltk.corpus import stopwords\n",
    "from nltk.stem import LancasterStemmer\n",
    "from nltk.stem import SnowballStemmer\n",
    "import pandas as pd\n",
    "import numpy as np\n",
    "import spacy\n",
    "import sklearn\n",
    "import pymorphy2\n",
    "from pymorphy2 import MorphAnalyzer\n",
    "import string\n",
    "import re\n",
    "from collections import defaultdict\n",
    "from sklearn.feature_extraction.text import CountVectorizer\n",
    "from sklearn.feature_extraction.text import TfidfVectorizer\n",
    "import gensim\n",
    "import matplotlib_inline\n",
    "import matplotlib.pyplot as plt\n",
    "from sklearn.model_selection import train_test_split\n",
    "from sklearn.linear_model import LogisticRegression\n",
    "from sklearn.metrics import classification_report, roc_auc_score\n",
    "from sklearn.model_selection import train_test_split\n",
    "from sklearn.preprocessing import MaxAbsScaler"
   ]
  },
  {
   "cell_type": "code",
   "execution_count": 221,
   "metadata": {},
   "outputs": [
    {
     "name": "stderr",
     "output_type": "stream",
     "text": [
      "[nltk_data] Downloading package stopwords to\n",
      "[nltk_data]     C:\\Users\\NitghtWay\\AppData\\Roaming\\nltk_data...\n",
      "[nltk_data]   Package stopwords is already up-to-date!\n",
      "[nltk_data] Downloading package punkt to\n",
      "[nltk_data]     C:\\Users\\NitghtWay\\AppData\\Roaming\\nltk_data...\n",
      "[nltk_data]   Package punkt is already up-to-date!\n"
     ]
    }
   ],
   "source": [
    "nltk.download('stopwords')\n",
    "nltk.download('punkt')\n",
    "rus = \"russian\"\n",
    "sw = stopwords.words(rus)\n",
    "morph = MorphAnalyzer()\n",
    "patterns = \"[A-Za-z0-9!#$%&'()*+,./:;<=>?@[\\]^_`{|}~—\\\"\\-]+\"\n",
    "lancaster = LancasterStemmer()\n",
    "snowball = SnowballStemmer(language=rus)\n",
    "vectorizer = CountVectorizer()"
   ]
  },
  {
   "cell_type": "code",
   "execution_count": 222,
   "metadata": {},
   "outputs": [],
   "source": [
    "#ф-я для вывода текстовых данных в удобном формате\n",
    "def print_table(array):\n",
    "    table_width = 5\n",
    "    for i in range(0, len(array), table_width):\n",
    "        row = array[i:i + table_width]\n",
    "        formatted_row = \" \".join([\"{:<10}\".format(str(elem)) for elem in row])\n",
    "        print(formatted_row)\n",
    "#ф-я для удаления символов пунктуации\n",
    "def remove_punctuation(text):\n",
    "    return ''.join([ch for ch in text if ch not in \n",
    "    string.punctuation])\n",
    "#ф-я для удаления чисел\n",
    "def remove_numbers(text):\n",
    "    return ''.join([i if not i.isdigit() else ' ' for i in text]) \n",
    "#ф-я для удаления последовательностей\n",
    "def remove_patterns(text):\n",
    "    text = re.sub(patterns, ' ', text)\n",
    "    return text\n",
    "#ф-я для удаления не буквенных символов\n",
    "def remove_notalpha(text):\n",
    "    return ''.join(i if i.isalpha() else ' ' for i in text)"
   ]
  },
  {
   "cell_type": "code",
   "execution_count": 223,
   "metadata": {},
   "outputs": [],
   "source": [
    "#ф-я токенизации с использованием Snowball\n",
    "def tokenize_snowball(text):\n",
    "    text = remove_notalpha(text)\n",
    "    text = remove_numbers(text)\n",
    "    text = remove_punctuation(text)\n",
    "    text = remove_patterns(text)\n",
    "    sentences = sent_tokenize(text, language=rus)\n",
    "    all_words = []\n",
    "    for sent in sentences:\n",
    "        words = word_tokenize(sent, language=rus)\n",
    "        for w in words:\n",
    "            if w in sw or len(w) >= 11:\n",
    "                continue\n",
    "            else:\n",
    "                all_words.append(snowball.stem(w))\n",
    "            \n",
    "    return ' '.join(all_words)"
   ]
  },
  {
   "cell_type": "code",
   "execution_count": 224,
   "metadata": {},
   "outputs": [],
   "source": [
    "#ф-я токенизации с использованием Lancaster\n",
    "def tokenize_lancaster(text):\n",
    "    text = remove_notalpha(text)\n",
    "    text = remove_numbers(text)\n",
    "    text = remove_patterns(text)\n",
    "    text = remove_punctuation(text)\n",
    "    sentences = sent_tokenize(text, language=rus)\n",
    "    all_words = []\n",
    "    for sent in sentences:\n",
    "        words = word_tokenize(sent, language=rus)\n",
    "        for w in words:\n",
    "            if w in sw or len(w) >= 11:\n",
    "                continue\n",
    "            else:\n",
    "                all_words.append(lancaster.stem(w))\n",
    "    return ' '.join(all_words)"
   ]
  },
  {
   "cell_type": "code",
   "execution_count": 225,
   "metadata": {},
   "outputs": [],
   "source": [
    "#ф-я токенизации с помощью PyMorphy2\n",
    "def tokenize_morphy(text):\n",
    "    text = remove_notalpha(text)\n",
    "    text = remove_patterns(text)\n",
    "    text = remove_numbers(text)\n",
    "    text = remove_punctuation(text)\n",
    "    sentences = sent_tokenize(text, language=rus)\n",
    "    all_words = []\n",
    "    for sent in sentences:\n",
    "        words = word_tokenize(sent, language=rus)\n",
    "        for w in words:\n",
    "            all_words.append(morph.normal_forms(w)[0])\n",
    "    if len(all_words) > 2:\n",
    "        return ' '.join(all_words)\n",
    "    else:\n",
    "        return None\n",
    "    "
   ]
  },
  {
   "cell_type": "code",
   "execution_count": null,
   "metadata": {},
   "outputs": [],
   "source": []
  },
  {
   "cell_type": "code",
   "execution_count": 226,
   "metadata": {},
   "outputs": [],
   "source": [
    "train_path = 'C:\\\\course_work\\\\feature_extraction_NLP\\\\data\\\\test_ds1\\\\train.jsonl'\n",
    "val_path = 'C:\\\\course_work\\\\feature_extraction_NLP\\\\data\\\\test_ds1\\\\val.jsonl'\n",
    "train_data = pd.read_json(train_path, lines=True)\n",
    "val_data = pd.read_json(val_path, lines=True)\n",
    "df = pd.concat([train_data, val_data])"
   ]
  },
  {
   "cell_type": "code",
   "execution_count": 227,
   "metadata": {},
   "outputs": [
    {
     "data": {
      "text/plain": [
       "(1096, 8)"
      ]
     },
     "execution_count": 227,
     "metadata": {},
     "output_type": "execute_result"
    }
   ],
   "source": [
    "df.shape"
   ]
  },
  {
   "cell_type": "code",
   "execution_count": 228,
   "metadata": {},
   "outputs": [
    {
     "data": {
      "text/html": [
       "<div>\n",
       "<style scoped>\n",
       "    .dataframe tbody tr th:only-of-type {\n",
       "        vertical-align: middle;\n",
       "    }\n",
       "\n",
       "    .dataframe tbody tr th {\n",
       "        vertical-align: top;\n",
       "    }\n",
       "\n",
       "    .dataframe thead th {\n",
       "        text-align: right;\n",
       "    }\n",
       "</style>\n",
       "<table border=\"1\" class=\"dataframe\">\n",
       "  <thead>\n",
       "    <tr style=\"text-align: right;\">\n",
       "      <th></th>\n",
       "      <th>premise</th>\n",
       "      <th>label</th>\n",
       "      <th>hypothesis</th>\n",
       "      <th>verb</th>\n",
       "      <th>negation</th>\n",
       "      <th>genre</th>\n",
       "      <th>idx</th>\n",
       "      <th>no_negation</th>\n",
       "    </tr>\n",
       "  </thead>\n",
       "  <tbody>\n",
       "    <tr>\n",
       "      <th>0</th>\n",
       "      <td>Сумма ущерба составила одну тысячу рублей. Уто...</td>\n",
       "      <td>entailment</td>\n",
       "      <td>Ранее местный житель совершал подобное правона...</td>\n",
       "      <td>судить</td>\n",
       "      <td>no_negation</td>\n",
       "      <td>kp</td>\n",
       "      <td>0</td>\n",
       "      <td>NaN</td>\n",
       "    </tr>\n",
       "    <tr>\n",
       "      <th>1</th>\n",
       "      <td>Перебрасываясь словечками, они скользят глазам...</td>\n",
       "      <td>contradiction</td>\n",
       "      <td>Они что-то понимают</td>\n",
       "      <td>смотреть</td>\n",
       "      <td>no_negation</td>\n",
       "      <td>fiction</td>\n",
       "      <td>1</td>\n",
       "      <td>NaN</td>\n",
       "    </tr>\n",
       "    <tr>\n",
       "      <th>2</th>\n",
       "      <td>— Разве что, — сказала она, — мы хотим где-ниб...</td>\n",
       "      <td>neutral</td>\n",
       "      <td>Это “ Таганская ”, а не “ Тульская ”.</td>\n",
       "      <td>понять</td>\n",
       "      <td>no_negation</td>\n",
       "      <td>fiction</td>\n",
       "      <td>2</td>\n",
       "      <td>NaN</td>\n",
       "    </tr>\n",
       "    <tr>\n",
       "      <th>3</th>\n",
       "      <td>Зима, наконец, показала свой характер.</td>\n",
       "      <td>contradiction</td>\n",
       "      <td>У зимы есть свой характер.</td>\n",
       "      <td>показать</td>\n",
       "      <td>no_negation</td>\n",
       "      <td>kp</td>\n",
       "      <td>3</td>\n",
       "      <td>NaN</td>\n",
       "    </tr>\n",
       "    <tr>\n",
       "      <th>4</th>\n",
       "      <td>Гуманность Бога подобным сценарием не предпола...</td>\n",
       "      <td>contradiction</td>\n",
       "      <td>Это должно быть просто.</td>\n",
       "      <td>сказать</td>\n",
       "      <td>no_negation</td>\n",
       "      <td>fiction</td>\n",
       "      <td>4</td>\n",
       "      <td>NaN</td>\n",
       "    </tr>\n",
       "  </tbody>\n",
       "</table>\n",
       "</div>"
      ],
      "text/plain": [
       "                                             premise          label  \\\n",
       "0  Сумма ущерба составила одну тысячу рублей. Уто...     entailment   \n",
       "1  Перебрасываясь словечками, они скользят глазам...  contradiction   \n",
       "2  — Разве что, — сказала она, — мы хотим где-ниб...        neutral   \n",
       "3             Зима, наконец, показала свой характер.  contradiction   \n",
       "4  Гуманность Бога подобным сценарием не предпола...  contradiction   \n",
       "\n",
       "                                          hypothesis      verb     negation  \\\n",
       "0  Ранее местный житель совершал подобное правона...    судить  no_negation   \n",
       "1                                Они что-то понимают  смотреть  no_negation   \n",
       "2              Это “ Таганская ”, а не “ Тульская ”.    понять  no_negation   \n",
       "3                         У зимы есть свой характер.  показать  no_negation   \n",
       "4                            Это должно быть просто.   сказать  no_negation   \n",
       "\n",
       "     genre  idx no_negation  \n",
       "0       kp    0         NaN  \n",
       "1  fiction    1         NaN  \n",
       "2  fiction    2         NaN  \n",
       "3       kp    3         NaN  \n",
       "4  fiction    4         NaN  "
      ]
     },
     "execution_count": 228,
     "metadata": {},
     "output_type": "execute_result"
    }
   ],
   "source": [
    "df.head()"
   ]
  },
  {
   "cell_type": "code",
   "execution_count": 229,
   "metadata": {},
   "outputs": [],
   "source": [
    "df = df.drop(['label', 'hypothesis', 'verb','negation'\n",
    ",'idx','no_negation'], axis=1)"
   ]
  },
  {
   "cell_type": "code",
   "execution_count": 230,
   "metadata": {},
   "outputs": [
    {
     "data": {
      "text/html": [
       "<div>\n",
       "<style scoped>\n",
       "    .dataframe tbody tr th:only-of-type {\n",
       "        vertical-align: middle;\n",
       "    }\n",
       "\n",
       "    .dataframe tbody tr th {\n",
       "        vertical-align: top;\n",
       "    }\n",
       "\n",
       "    .dataframe thead th {\n",
       "        text-align: right;\n",
       "    }\n",
       "</style>\n",
       "<table border=\"1\" class=\"dataframe\">\n",
       "  <thead>\n",
       "    <tr style=\"text-align: right;\">\n",
       "      <th></th>\n",
       "      <th>premise</th>\n",
       "      <th>genre</th>\n",
       "    </tr>\n",
       "  </thead>\n",
       "  <tbody>\n",
       "    <tr>\n",
       "      <th>0</th>\n",
       "      <td>Сумма ущерба составила одну тысячу рублей. Уто...</td>\n",
       "      <td>kp</td>\n",
       "    </tr>\n",
       "    <tr>\n",
       "      <th>1</th>\n",
       "      <td>Перебрасываясь словечками, они скользят глазам...</td>\n",
       "      <td>fiction</td>\n",
       "    </tr>\n",
       "    <tr>\n",
       "      <th>2</th>\n",
       "      <td>— Разве что, — сказала она, — мы хотим где-ниб...</td>\n",
       "      <td>fiction</td>\n",
       "    </tr>\n",
       "    <tr>\n",
       "      <th>3</th>\n",
       "      <td>Зима, наконец, показала свой характер.</td>\n",
       "      <td>kp</td>\n",
       "    </tr>\n",
       "    <tr>\n",
       "      <th>4</th>\n",
       "      <td>Гуманность Бога подобным сценарием не предпола...</td>\n",
       "      <td>fiction</td>\n",
       "    </tr>\n",
       "    <tr>\n",
       "      <th>...</th>\n",
       "      <td>...</td>\n",
       "      <td>...</td>\n",
       "    </tr>\n",
       "    <tr>\n",
       "      <th>215</th>\n",
       "      <td>Кому они нужны? Ее нужно забрать в сумасшедший...</td>\n",
       "      <td>fiction</td>\n",
       "    </tr>\n",
       "    <tr>\n",
       "      <th>216</th>\n",
       "      <td>– А я вас все равно люблю, – скажу я. – Но как...</td>\n",
       "      <td>fiction</td>\n",
       "    </tr>\n",
       "    <tr>\n",
       "      <th>217</th>\n",
       "      <td>По ее словам, она помнит лишь, что собиралась ...</td>\n",
       "      <td>kp</td>\n",
       "    </tr>\n",
       "    <tr>\n",
       "      <th>218</th>\n",
       "      <td>Допросив гостя, следователи восстановили карти...</td>\n",
       "      <td>kp</td>\n",
       "    </tr>\n",
       "    <tr>\n",
       "      <th>219</th>\n",
       "      <td>Это стало для меня откровением, я понял, что е...</td>\n",
       "      <td>fiction</td>\n",
       "    </tr>\n",
       "  </tbody>\n",
       "</table>\n",
       "<p>1096 rows × 2 columns</p>\n",
       "</div>"
      ],
      "text/plain": [
       "                                               premise    genre\n",
       "0    Сумма ущерба составила одну тысячу рублей. Уто...       kp\n",
       "1    Перебрасываясь словечками, они скользят глазам...  fiction\n",
       "2    — Разве что, — сказала она, — мы хотим где-ниб...  fiction\n",
       "3               Зима, наконец, показала свой характер.       kp\n",
       "4    Гуманность Бога подобным сценарием не предпола...  fiction\n",
       "..                                                 ...      ...\n",
       "215  Кому они нужны? Ее нужно забрать в сумасшедший...  fiction\n",
       "216  – А я вас все равно люблю, – скажу я. – Но как...  fiction\n",
       "217  По ее словам, она помнит лишь, что собиралась ...       kp\n",
       "218  Допросив гостя, следователи восстановили карти...       kp\n",
       "219  Это стало для меня откровением, я понял, что е...  fiction\n",
       "\n",
       "[1096 rows x 2 columns]"
      ]
     },
     "execution_count": 230,
     "metadata": {},
     "output_type": "execute_result"
    }
   ],
   "source": [
    "df.dropna()"
   ]
  },
  {
   "cell_type": "code",
   "execution_count": 231,
   "metadata": {},
   "outputs": [
    {
     "data": {
      "text/html": [
       "<div>\n",
       "<style scoped>\n",
       "    .dataframe tbody tr th:only-of-type {\n",
       "        vertical-align: middle;\n",
       "    }\n",
       "\n",
       "    .dataframe tbody tr th {\n",
       "        vertical-align: top;\n",
       "    }\n",
       "\n",
       "    .dataframe thead th {\n",
       "        text-align: right;\n",
       "    }\n",
       "</style>\n",
       "<table border=\"1\" class=\"dataframe\">\n",
       "  <thead>\n",
       "    <tr style=\"text-align: right;\">\n",
       "      <th></th>\n",
       "      <th>premise</th>\n",
       "      <th>genre</th>\n",
       "    </tr>\n",
       "  </thead>\n",
       "  <tbody>\n",
       "    <tr>\n",
       "      <th>0</th>\n",
       "      <td>Сумма ущерба составила одну тысячу рублей. Уто...</td>\n",
       "      <td>kp</td>\n",
       "    </tr>\n",
       "    <tr>\n",
       "      <th>1</th>\n",
       "      <td>Перебрасываясь словечками, они скользят глазам...</td>\n",
       "      <td>fiction</td>\n",
       "    </tr>\n",
       "    <tr>\n",
       "      <th>2</th>\n",
       "      <td>— Разве что, — сказала она, — мы хотим где-ниб...</td>\n",
       "      <td>fiction</td>\n",
       "    </tr>\n",
       "    <tr>\n",
       "      <th>3</th>\n",
       "      <td>Зима, наконец, показала свой характер.</td>\n",
       "      <td>kp</td>\n",
       "    </tr>\n",
       "    <tr>\n",
       "      <th>4</th>\n",
       "      <td>Гуманность Бога подобным сценарием не предпола...</td>\n",
       "      <td>fiction</td>\n",
       "    </tr>\n",
       "  </tbody>\n",
       "</table>\n",
       "</div>"
      ],
      "text/plain": [
       "                                             premise    genre\n",
       "0  Сумма ущерба составила одну тысячу рублей. Уто...       kp\n",
       "1  Перебрасываясь словечками, они скользят глазам...  fiction\n",
       "2  — Разве что, — сказала она, — мы хотим где-ниб...  fiction\n",
       "3             Зима, наконец, показала свой характер.       kp\n",
       "4  Гуманность Бога подобным сценарием не предпола...  fiction"
      ]
     },
     "execution_count": 231,
     "metadata": {},
     "output_type": "execute_result"
    }
   ],
   "source": [
    "df.head()"
   ]
  },
  {
   "cell_type": "code",
   "execution_count": 232,
   "metadata": {},
   "outputs": [],
   "source": [
    "df['genre'] = df['genre'].replace('kp', 'interfax')"
   ]
  },
  {
   "cell_type": "code",
   "execution_count": 233,
   "metadata": {},
   "outputs": [
    {
     "data": {
      "image/png": "[encoded data removed]",
      "text/plain": [
       "<Figure size 640x480 with 1 Axes>"
      ]
     },
     "metadata": {},
     "output_type": "display_data"
    }
   ],
   "source": [
    "pivot_table = df.groupby('genre').size()\n",
    "pivot_table.plot(kind='bar')\n",
    "plt.show()"
   ]
  },
  {
   "cell_type": "markdown",
   "metadata": {},
   "source": []
  },
  {
   "cell_type": "code",
   "execution_count": 234,
   "metadata": {},
   "outputs": [],
   "source": [
    "Y = pd.DataFrame({'genre':[str(genre) for genre in df['genre']]})\n",
    "#Формирование наборов данных\n",
    "df_morphy = pd.DataFrame({'text':[tokenize_morphy(sample) \n",
    "for sample in df['premise']]})\n",
    "df_snowball = pd.DataFrame({'text':[tokenize_snowball(sample) \n",
    "for sample in df['premise']]})\n",
    "df_lancaster = pd.DataFrame({'text':[tokenize_lancaster(sample) \n",
    "for sample in df['premise']]})\n",
    "#Очистка от пустот\n",
    "X1 = df_lancaster.dropna()\n",
    "X2 = df_morphy.dropna()\n",
    "X3 = df_snowball.dropna()"
   ]
  },
  {
   "cell_type": "code",
   "execution_count": 235,
   "metadata": {},
   "outputs": [
    {
     "data": {
      "text/html": [
       "<div>\n",
       "<style scoped>\n",
       "    .dataframe tbody tr th:only-of-type {\n",
       "        vertical-align: middle;\n",
       "    }\n",
       "\n",
       "    .dataframe tbody tr th {\n",
       "        vertical-align: top;\n",
       "    }\n",
       "\n",
       "    .dataframe thead th {\n",
       "        text-align: right;\n",
       "    }\n",
       "</style>\n",
       "<table border=\"1\" class=\"dataframe\">\n",
       "  <thead>\n",
       "    <tr style=\"text-align: right;\">\n",
       "      <th></th>\n",
       "      <th>genre</th>\n",
       "    </tr>\n",
       "  </thead>\n",
       "  <tbody>\n",
       "    <tr>\n",
       "      <th>0</th>\n",
       "      <td>interfax</td>\n",
       "    </tr>\n",
       "    <tr>\n",
       "      <th>1</th>\n",
       "      <td>fiction</td>\n",
       "    </tr>\n",
       "    <tr>\n",
       "      <th>2</th>\n",
       "      <td>fiction</td>\n",
       "    </tr>\n",
       "    <tr>\n",
       "      <th>3</th>\n",
       "      <td>interfax</td>\n",
       "    </tr>\n",
       "    <tr>\n",
       "      <th>4</th>\n",
       "      <td>fiction</td>\n",
       "    </tr>\n",
       "  </tbody>\n",
       "</table>\n",
       "</div>"
      ],
      "text/plain": [
       "      genre\n",
       "0  interfax\n",
       "1   fiction\n",
       "2   fiction\n",
       "3  interfax\n",
       "4   fiction"
      ]
     },
     "execution_count": 235,
     "metadata": {},
     "output_type": "execute_result"
    }
   ],
   "source": [
    "Y.head()"
   ]
  },
  {
   "cell_type": "code",
   "execution_count": 236,
   "metadata": {},
   "outputs": [
    {
     "name": "stdout",
     "output_type": "stream",
     "text": [
      "(1096, 1)\n",
      "(1096, 1)\n"
     ]
    }
   ],
   "source": [
    "#снежный ком стеммер\n",
    "X = X2\n",
    "print(X.shape)\n",
    "print(Y.shape)\n",
    "x_train, x_test, y_train, y_test = train_test_split(X.text, Y.genre, random_state = 13)"
   ]
  },
  {
   "cell_type": "code",
   "execution_count": 237,
   "metadata": {},
   "outputs": [
    {
     "name": "stdout",
     "output_type": "stream",
     "text": [
      "              precision    recall  f1-score   support\n",
      "\n",
      "     fiction       0.82      0.92      0.87       137\n",
      "    interfax       0.91      0.80      0.85       137\n",
      "\n",
      "    accuracy                           0.86       274\n",
      "   macro avg       0.86      0.86      0.86       274\n",
      "weighted avg       0.86      0.86      0.86       274\n",
      "\n"
     ]
    }
   ],
   "source": [
    "#BOW\n",
    "vec = CountVectorizer(ngram_range=(1, 1))\n",
    "\n",
    "bow = vec.fit_transform(x_train)  # bow — bag of words (мешок слов)\n",
    "bow_test = vec.transform(x_test)\n",
    "\n",
    "scaler = MaxAbsScaler()\n",
    "bow = scaler.fit_transform(bow)\n",
    "bow_test = scaler.transform(bow_test)\n",
    "\n",
    "clf = LogisticRegression(max_iter=200, random_state=42)\n",
    "clf.fit(bow, y_train)\n",
    "pred = clf.predict(bow_test)\n",
    "\n",
    "print(classification_report(y_test, pred))"
   ]
  },
  {
   "cell_type": "code",
   "execution_count": 238,
   "metadata": {},
   "outputs": [
    {
     "name": "stdout",
     "output_type": "stream",
     "text": [
      "              precision    recall  f1-score   support\n",
      "\n",
      "     fiction       0.84      0.93      0.88       137\n",
      "    interfax       0.93      0.82      0.87       137\n",
      "\n",
      "    accuracy                           0.88       274\n",
      "   macro avg       0.88      0.88      0.88       274\n",
      "weighted avg       0.88      0.88      0.88       274\n",
      "\n"
     ]
    }
   ],
   "source": [
    "#Tf-idf\n",
    "vec = TfidfVectorizer(ngram_range=(1, 1))\n",
    "vec_train = vec.fit_transform(x_train)\n",
    "vec_test = vec.transform(x_test)\n",
    "\n",
    "scaler = MaxAbsScaler()\n",
    "vec_train = scaler.fit_transform(vec_train)\n",
    "vec_test = scaler.transform(vec_test)\n",
    "\n",
    "clf = LogisticRegression(max_iter=300, random_state=42)\n",
    "clf.fit(vec_train, y_train)\n",
    "pred_tfidf = clf.predict(vec_test)\n",
    "print(classification_report(y_test, pred_tfidf))"
   ]
  }
 ],
 "metadata": {
  "kernelspec": {
   "display_name": "Python 3",
   "language": "python",
   "name": "python3"
  },
  "language_info": {
   "codemirror_mode": {
    "name": "ipython",
    "version": 3
   },
   "file_extension": ".py",
   "mimetype": "text/x-python",
   "name": "python",
   "nbconvert_exporter": "python",
   "pygments_lexer": "ipython3",
   "version": "3.10.13"
  }
 },
 "nbformat": 4,
 "nbformat_minor": 2
}
